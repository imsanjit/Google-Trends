{
 "cells": [
  {
   "cell_type": "code",
   "execution_count": 23,
   "metadata": {},
   "outputs": [],
   "source": [
    "# pip install pytrends"
   ]
  },
  {
   "cell_type": "code",
   "execution_count": 140,
   "metadata": {},
   "outputs": [],
   "source": [
    "import pandas as pd\n",
    "import json\n",
    "from pytrends.request import TrendReq\n",
    "import matplotlib.pyplot as plt\n",
    "trends = TrendReq(hl='en-IN')"
   ]
  },
  {
   "cell_type": "code",
   "execution_count": 144,
   "metadata": {},
   "outputs": [],
   "source": [
    "kw_list=[\"home loan\"]\n",
    "trends.build_payload(kw_list=kw_list, timeframe='today 1-m')\n",
    "related_queries = trends.related_queries()"
   ]
  },
  {
   "cell_type": "code",
   "execution_count": 145,
   "metadata": {},
   "outputs": [],
   "source": [
    "df1 = related_queries[kw_list[0]]['top']\n",
    "df1.rename(columns={\"query\": \"Top_keywords\", \"value\": \"Top_keywords_value\"}, inplace=True)\n",
    "\n",
    "df2 = related_queries[kw_list[0]]['rising']\n",
    "df2.rename(columns={\"query\": \"Rising_keywords\", \"value\": \"Rising_keywords_volumn\"}, inplace=True)\n",
    "\n",
    "final_related_queries = pd.concat([df1, df2], axis=1)\n",
    "\n",
    "final_related_queries.to_csv(f'Google_trend_for_{kw_list[0]}.csv', index=False)"
   ]
  },
  {
   "cell_type": "code",
   "execution_count": 146,
   "metadata": {},
   "outputs": [],
   "source": []
  },
  {
   "cell_type": "code",
   "execution_count": null,
   "metadata": {},
   "outputs": [],
   "source": []
  },
  {
   "cell_type": "code",
   "execution_count": 150,
   "metadata": {},
   "outputs": [],
   "source": [
    "def google_trends(keyword):\n",
    "    kw_list=[keyword]\n",
    "    trends.build_payload(kw_list=kw_list, timeframe='today 1-m')\n",
    "    related_queries = trends.related_queries()\n",
    "    df1 = related_queries[kw_list[0]]['top']\n",
    "    df1.rename(columns={\"query\": \"Top_keywords\", \"value\": \"Top_keywords_value\"}, inplace=True)\n",
    "\n",
    "    df2 = related_queries[kw_list[0]]['rising']\n",
    "    df2.rename(columns={\"query\": \"Rising_keywords\", \"value\": \"Rising_keywords_volumn\"}, inplace=True)\n",
    "\n",
    "    final_related_queries = pd.concat([df1, df2], axis=1)\n",
    "    final_related_queries.to_csv(f'Google_trend_for_{kw_list[0]}.csv', index=False)"
   ]
  },
  {
   "cell_type": "code",
   "execution_count": 153,
   "metadata": {},
   "outputs": [],
   "source": [
    "google_trends('home loan calculator')"
   ]
  },
  {
   "cell_type": "code",
   "execution_count": null,
   "metadata": {},
   "outputs": [],
   "source": []
  },
  {
   "cell_type": "code",
   "execution_count": null,
   "metadata": {},
   "outputs": [],
   "source": []
  }
 ],
 "metadata": {
  "kernelspec": {
   "display_name": "Python 3",
   "language": "python",
   "name": "python3"
  },
  "language_info": {
   "codemirror_mode": {
    "name": "ipython",
    "version": 3
   },
   "file_extension": ".py",
   "mimetype": "text/x-python",
   "name": "python",
   "nbconvert_exporter": "python",
   "pygments_lexer": "ipython3",
   "version": "3.7.4"
  }
 },
 "nbformat": 4,
 "nbformat_minor": 2
}
